{
 "cells": [
  {
   "cell_type": "markdown",
   "metadata": {},
   "source": [
    "<h1>PyPoll<h1>"
   ]
  },
  {
   "cell_type": "markdown",
   "metadata": {},
   "source": [
    "![](image/Vote_counting.jpg)"
   ]
  },
  {
   "cell_type": "markdown",
   "metadata": {},
   "source": [
    "<p><strong>Objective:</strong> In this challenge, we were tasked with helping a small, rural town modernize its vote-counting process. (Up until now, Uncle Cleetus had been trustfully tallying them one-by-one, but unfortunately, his concentration isn't what it used to be.)</p>"
   ]
  },
  {
   "cell_type": "markdown",
   "metadata": {},
   "source": [
    "<p>Each dataset is composed of three columns: Voter ID, County, and Candidate. The task is to create a Python script that analyzes the votes and calculates each of the following:</p>\n",
    "\n",
    "<ul>\n",
    "<li>The total number of votes cast</li>\n",
    "\n",
    "<li>A complete list of candidates who received votes</li>\n",
    "\n",
    "<li>The percentage of votes each candidate won</li>\n",
    "\n",
    "<li>The total number of votes each candidate won</li>\n",
    "\n",
    "<li>The winner of the election based on popular vote.</li>\n",
    "\n",
    "</ul><br>\n",
    "\n",
    "<p> This Python script will add the Election Results to the terminal and export a text file with the results</p>"
   ]
  },
  {
   "cell_type": "code",
   "execution_count": 21,
   "metadata": {
    "collapsed": true
   },
   "outputs": [],
   "source": [
    "#used libraries csv and collections to perform this analysis\n",
    "import csv\n",
    "import collections"
   ]
  },
  {
   "cell_type": "code",
   "execution_count": 22,
   "metadata": {},
   "outputs": [],
   "source": [
    "election = []\n",
    "\n",
    "\n",
    "with open('raw_data/election_data_2.csv') as data_file:\n",
    "    \n",
    "    csv_data = csv.reader(data_file)\n",
    "    \n",
    "    next(csv_data)\n",
    "    \n",
    "    for row in csv_data:\n",
    "        election.append((row[2]))\n",
    "        "
   ]
  },
  {
   "cell_type": "code",
   "execution_count": 23,
   "metadata": {
    "collapsed": true
   },
   "outputs": [],
   "source": [
    "#used counter to count the number of votes per candidate\n",
    "total_for_each_candidate = collections.Counter(election)"
   ]
  },
  {
   "cell_type": "code",
   "execution_count": 24,
   "metadata": {},
   "outputs": [
    {
     "name": "stdout",
     "output_type": "stream",
     "text": [
      "Election Results\n",
      "------------------------\n",
      "Total Votes: 3521001\n",
      "------------------------\n",
      "Khan: 0.63% 2218231\n",
      "Correy: 0.2% 704200\n",
      "Li: 0.14% 492940\n",
      "O'Tooley: 0.03% 105630\n",
      "--------------------------\n",
      "------------------------\n",
      "Winner Khan\n",
      "-------------------------\n",
      "```\n"
     ]
    }
   ],
   "source": [
    "\n",
    "\n",
    "#opens file with name of \"test.txt\"\n",
    "f = open(\"Election Results.txt\",\"w\") \n",
    "\n",
    "\n",
    "#write to text file\n",
    "f.write('Election Results')\n",
    "f.write('------------------------')\n",
    "f.write('Total Votes: {}'.format(len(election)))\n",
    "f.write('------------------------')\n",
    "\n",
    "\n",
    "#Print Election Results displaying the total votes received \n",
    "print('Election Results')\n",
    "print('------------------------')\n",
    "print('Total Votes: {}'.format(len(election)))\n",
    "print('------------------------')\n",
    "\n",
    "\n",
    "#Print the number of votes per candidte\n",
    "for key,value in total_for_each_candidate.items():\n",
    "    print('{}: {}% {}'.format(key,round(value/len(election),2),value))\n",
    "\n",
    "print('--------------------------')\n",
    "\n",
    "f.write('--------------------------')\n",
    "\n",
    "\n",
    "\n",
    "#Create empty list for all candidates and number of votes for each person. \n",
    "winner = []\n",
    "votes_for_each_candidate = []\n",
    "\n",
    "\n",
    "for key,value in total_for_each_candidate.items():\n",
    "    winner.append(key)\n",
    "    votes_for_each_candidate.append(value)\n",
    "    \n",
    "\n",
    "    \n",
    "#found idmax for the candidate which received the most votes.     \n",
    "index_max_votes = votes_for_each_candidate.index(max(votes_for_each_candidate))\n",
    "winner = winner[index_max_votes]    \n",
    "\n",
    "#Write to text file\n",
    "f.write('------------------------')\n",
    "f.write('Winner {}'.format(winner))   \n",
    "f.write('-------------------------')\n",
    "f.write('```')\n",
    "\n",
    "\n",
    "#Write to text file\n",
    "print('------------------------')\n",
    "print('Winner {}'.format(winner))   \n",
    "print('-------------------------')\n",
    "print('```')"
   ]
  },
  {
   "cell_type": "code",
   "execution_count": null,
   "metadata": {
    "collapsed": true
   },
   "outputs": [],
   "source": [
    "\n"
   ]
  }
 ],
 "metadata": {
  "kernelspec": {
   "display_name": "Python 3",
   "language": "python",
   "name": "python3"
  },
  "language_info": {
   "codemirror_mode": {
    "name": "ipython",
    "version": 3
   },
   "file_extension": ".py",
   "mimetype": "text/x-python",
   "name": "python",
   "nbconvert_exporter": "python",
   "pygments_lexer": "ipython3",
   "version": "3.6.1"
  }
 },
 "nbformat": 4,
 "nbformat_minor": 2
}
